{
 "cells": [
  {
   "cell_type": "code",
   "execution_count": 34,
   "metadata": {},
   "outputs": [],
   "source": [
    "import pandas as pd\n",
    "import numpy as np\n",
    "import matplotlib.pyplot as plt"
   ]
  },
  {
   "cell_type": "code",
   "execution_count": 35,
   "metadata": {},
   "outputs": [],
   "source": [
    "df1=pd.read_csv(\"diabetes-1.csv\")"
   ]
  },
  {
   "cell_type": "code",
   "execution_count": 36,
   "metadata": {},
   "outputs": [
    {
     "data": {
      "text/html": [
       "<div>\n",
       "<style scoped>\n",
       "    .dataframe tbody tr th:only-of-type {\n",
       "        vertical-align: middle;\n",
       "    }\n",
       "\n",
       "    .dataframe tbody tr th {\n",
       "        vertical-align: top;\n",
       "    }\n",
       "\n",
       "    .dataframe thead th {\n",
       "        text-align: right;\n",
       "    }\n",
       "</style>\n",
       "<table border=\"1\" class=\"dataframe\">\n",
       "  <thead>\n",
       "    <tr style=\"text-align: right;\">\n",
       "      <th></th>\n",
       "      <th>Pregnancies</th>\n",
       "      <th>Glucose</th>\n",
       "      <th>BloodPressure</th>\n",
       "      <th>SkinThickness</th>\n",
       "      <th>Insulin</th>\n",
       "      <th>BMI</th>\n",
       "      <th>DiabetesPedigreeFunction</th>\n",
       "      <th>Age</th>\n",
       "      <th>Outcome</th>\n",
       "    </tr>\n",
       "  </thead>\n",
       "  <tbody>\n",
       "    <tr>\n",
       "      <th>0</th>\n",
       "      <td>6</td>\n",
       "      <td>148</td>\n",
       "      <td>72</td>\n",
       "      <td>35</td>\n",
       "      <td>0</td>\n",
       "      <td>33.6</td>\n",
       "      <td>0.627</td>\n",
       "      <td>50</td>\n",
       "      <td>1</td>\n",
       "    </tr>\n",
       "    <tr>\n",
       "      <th>1</th>\n",
       "      <td>1</td>\n",
       "      <td>85</td>\n",
       "      <td>66</td>\n",
       "      <td>29</td>\n",
       "      <td>0</td>\n",
       "      <td>26.6</td>\n",
       "      <td>0.351</td>\n",
       "      <td>31</td>\n",
       "      <td>0</td>\n",
       "    </tr>\n",
       "    <tr>\n",
       "      <th>2</th>\n",
       "      <td>8</td>\n",
       "      <td>183</td>\n",
       "      <td>64</td>\n",
       "      <td>0</td>\n",
       "      <td>0</td>\n",
       "      <td>23.3</td>\n",
       "      <td>0.672</td>\n",
       "      <td>32</td>\n",
       "      <td>1</td>\n",
       "    </tr>\n",
       "    <tr>\n",
       "      <th>3</th>\n",
       "      <td>1</td>\n",
       "      <td>89</td>\n",
       "      <td>66</td>\n",
       "      <td>23</td>\n",
       "      <td>94</td>\n",
       "      <td>28.1</td>\n",
       "      <td>0.167</td>\n",
       "      <td>21</td>\n",
       "      <td>0</td>\n",
       "    </tr>\n",
       "    <tr>\n",
       "      <th>4</th>\n",
       "      <td>0</td>\n",
       "      <td>137</td>\n",
       "      <td>40</td>\n",
       "      <td>35</td>\n",
       "      <td>168</td>\n",
       "      <td>43.1</td>\n",
       "      <td>2.288</td>\n",
       "      <td>33</td>\n",
       "      <td>1</td>\n",
       "    </tr>\n",
       "  </tbody>\n",
       "</table>\n",
       "</div>"
      ],
      "text/plain": [
       "   Pregnancies  Glucose  BloodPressure  SkinThickness  Insulin   BMI  \\\n",
       "0            6      148             72             35        0  33.6   \n",
       "1            1       85             66             29        0  26.6   \n",
       "2            8      183             64              0        0  23.3   \n",
       "3            1       89             66             23       94  28.1   \n",
       "4            0      137             40             35      168  43.1   \n",
       "\n",
       "   DiabetesPedigreeFunction  Age  Outcome  \n",
       "0                     0.627   50        1  \n",
       "1                     0.351   31        0  \n",
       "2                     0.672   32        1  \n",
       "3                     0.167   21        0  \n",
       "4                     2.288   33        1  "
      ]
     },
     "execution_count": 36,
     "metadata": {},
     "output_type": "execute_result"
    }
   ],
   "source": [
    "df1.head()"
   ]
  },
  {
   "cell_type": "code",
   "execution_count": 37,
   "metadata": {},
   "outputs": [
    {
     "data": {
      "text/plain": [
       "(768, 9)"
      ]
     },
     "execution_count": 37,
     "metadata": {},
     "output_type": "execute_result"
    }
   ],
   "source": [
    "df1.shape"
   ]
  },
  {
   "cell_type": "code",
   "execution_count": 38,
   "metadata": {},
   "outputs": [],
   "source": [
    "df2=df1.drop([\"Pregnancies\",\"DiabetesPedigreeFunction\"],axis=\"columns\")"
   ]
  },
  {
   "cell_type": "code",
   "execution_count": 39,
   "metadata": {},
   "outputs": [
    {
     "data": {
      "text/html": [
       "<div>\n",
       "<style scoped>\n",
       "    .dataframe tbody tr th:only-of-type {\n",
       "        vertical-align: middle;\n",
       "    }\n",
       "\n",
       "    .dataframe tbody tr th {\n",
       "        vertical-align: top;\n",
       "    }\n",
       "\n",
       "    .dataframe thead th {\n",
       "        text-align: right;\n",
       "    }\n",
       "</style>\n",
       "<table border=\"1\" class=\"dataframe\">\n",
       "  <thead>\n",
       "    <tr style=\"text-align: right;\">\n",
       "      <th></th>\n",
       "      <th>Glucose</th>\n",
       "      <th>BloodPressure</th>\n",
       "      <th>SkinThickness</th>\n",
       "      <th>Insulin</th>\n",
       "      <th>BMI</th>\n",
       "      <th>Age</th>\n",
       "      <th>Outcome</th>\n",
       "    </tr>\n",
       "  </thead>\n",
       "  <tbody>\n",
       "    <tr>\n",
       "      <th>0</th>\n",
       "      <td>148</td>\n",
       "      <td>72</td>\n",
       "      <td>35</td>\n",
       "      <td>0</td>\n",
       "      <td>33.6</td>\n",
       "      <td>50</td>\n",
       "      <td>1</td>\n",
       "    </tr>\n",
       "    <tr>\n",
       "      <th>1</th>\n",
       "      <td>85</td>\n",
       "      <td>66</td>\n",
       "      <td>29</td>\n",
       "      <td>0</td>\n",
       "      <td>26.6</td>\n",
       "      <td>31</td>\n",
       "      <td>0</td>\n",
       "    </tr>\n",
       "    <tr>\n",
       "      <th>2</th>\n",
       "      <td>183</td>\n",
       "      <td>64</td>\n",
       "      <td>0</td>\n",
       "      <td>0</td>\n",
       "      <td>23.3</td>\n",
       "      <td>32</td>\n",
       "      <td>1</td>\n",
       "    </tr>\n",
       "    <tr>\n",
       "      <th>3</th>\n",
       "      <td>89</td>\n",
       "      <td>66</td>\n",
       "      <td>23</td>\n",
       "      <td>94</td>\n",
       "      <td>28.1</td>\n",
       "      <td>21</td>\n",
       "      <td>0</td>\n",
       "    </tr>\n",
       "    <tr>\n",
       "      <th>4</th>\n",
       "      <td>137</td>\n",
       "      <td>40</td>\n",
       "      <td>35</td>\n",
       "      <td>168</td>\n",
       "      <td>43.1</td>\n",
       "      <td>33</td>\n",
       "      <td>1</td>\n",
       "    </tr>\n",
       "    <tr>\n",
       "      <th>...</th>\n",
       "      <td>...</td>\n",
       "      <td>...</td>\n",
       "      <td>...</td>\n",
       "      <td>...</td>\n",
       "      <td>...</td>\n",
       "      <td>...</td>\n",
       "      <td>...</td>\n",
       "    </tr>\n",
       "    <tr>\n",
       "      <th>763</th>\n",
       "      <td>101</td>\n",
       "      <td>76</td>\n",
       "      <td>48</td>\n",
       "      <td>180</td>\n",
       "      <td>32.9</td>\n",
       "      <td>63</td>\n",
       "      <td>0</td>\n",
       "    </tr>\n",
       "    <tr>\n",
       "      <th>764</th>\n",
       "      <td>122</td>\n",
       "      <td>70</td>\n",
       "      <td>27</td>\n",
       "      <td>0</td>\n",
       "      <td>36.8</td>\n",
       "      <td>27</td>\n",
       "      <td>0</td>\n",
       "    </tr>\n",
       "    <tr>\n",
       "      <th>765</th>\n",
       "      <td>121</td>\n",
       "      <td>72</td>\n",
       "      <td>23</td>\n",
       "      <td>112</td>\n",
       "      <td>26.2</td>\n",
       "      <td>30</td>\n",
       "      <td>0</td>\n",
       "    </tr>\n",
       "    <tr>\n",
       "      <th>766</th>\n",
       "      <td>126</td>\n",
       "      <td>60</td>\n",
       "      <td>0</td>\n",
       "      <td>0</td>\n",
       "      <td>30.1</td>\n",
       "      <td>47</td>\n",
       "      <td>1</td>\n",
       "    </tr>\n",
       "    <tr>\n",
       "      <th>767</th>\n",
       "      <td>93</td>\n",
       "      <td>70</td>\n",
       "      <td>31</td>\n",
       "      <td>0</td>\n",
       "      <td>30.4</td>\n",
       "      <td>23</td>\n",
       "      <td>0</td>\n",
       "    </tr>\n",
       "  </tbody>\n",
       "</table>\n",
       "<p>768 rows × 7 columns</p>\n",
       "</div>"
      ],
      "text/plain": [
       "     Glucose  BloodPressure  SkinThickness  Insulin   BMI  Age  Outcome\n",
       "0        148             72             35        0  33.6   50        1\n",
       "1         85             66             29        0  26.6   31        0\n",
       "2        183             64              0        0  23.3   32        1\n",
       "3         89             66             23       94  28.1   21        0\n",
       "4        137             40             35      168  43.1   33        1\n",
       "..       ...            ...            ...      ...   ...  ...      ...\n",
       "763      101             76             48      180  32.9   63        0\n",
       "764      122             70             27        0  36.8   27        0\n",
       "765      121             72             23      112  26.2   30        0\n",
       "766      126             60              0        0  30.1   47        1\n",
       "767       93             70             31        0  30.4   23        0\n",
       "\n",
       "[768 rows x 7 columns]"
      ]
     },
     "execution_count": 39,
     "metadata": {},
     "output_type": "execute_result"
    }
   ],
   "source": [
    "df2"
   ]
  },
  {
   "cell_type": "code",
   "execution_count": 40,
   "metadata": {},
   "outputs": [
    {
     "data": {
      "text/plain": [
       "Glucose          0\n",
       "BloodPressure    0\n",
       "SkinThickness    0\n",
       "Insulin          0\n",
       "BMI              0\n",
       "Age              0\n",
       "Outcome          0\n",
       "dtype: int64"
      ]
     },
     "execution_count": 40,
     "metadata": {},
     "output_type": "execute_result"
    }
   ],
   "source": [
    "df2.isnull().sum()"
   ]
  },
  {
   "cell_type": "code",
   "execution_count": 41,
   "metadata": {},
   "outputs": [
    {
     "data": {
      "text/plain": [
       "array([1, 0], dtype=int64)"
      ]
     },
     "execution_count": 41,
     "metadata": {},
     "output_type": "execute_result"
    }
   ],
   "source": [
    "df2.Outcome.unique()"
   ]
  },
  {
   "cell_type": "code",
   "execution_count": 42,
   "metadata": {},
   "outputs": [
    {
     "data": {
      "text/plain": [
       "array([50, 31, 32, 21, 33, 30, 26, 29, 53, 54, 34, 57, 59, 51, 27, 41, 43,\n",
       "       22, 38, 60, 28, 45, 35, 46, 56, 37, 48, 40, 25, 24, 58, 42, 44, 39,\n",
       "       36, 23, 61, 69, 62, 55, 65, 47, 52, 66, 49, 63, 67, 72, 81, 64, 70,\n",
       "       68], dtype=int64)"
      ]
     },
     "execution_count": 42,
     "metadata": {},
     "output_type": "execute_result"
    }
   ],
   "source": [
    "df2.Age.unique()"
   ]
  },
  {
   "cell_type": "code",
   "execution_count": 43,
   "metadata": {},
   "outputs": [
    {
     "data": {
      "text/html": [
       "<div>\n",
       "<style scoped>\n",
       "    .dataframe tbody tr th:only-of-type {\n",
       "        vertical-align: middle;\n",
       "    }\n",
       "\n",
       "    .dataframe tbody tr th {\n",
       "        vertical-align: top;\n",
       "    }\n",
       "\n",
       "    .dataframe thead th {\n",
       "        text-align: right;\n",
       "    }\n",
       "</style>\n",
       "<table border=\"1\" class=\"dataframe\">\n",
       "  <thead>\n",
       "    <tr style=\"text-align: right;\">\n",
       "      <th></th>\n",
       "      <th>Glucose</th>\n",
       "      <th>BloodPressure</th>\n",
       "      <th>SkinThickness</th>\n",
       "      <th>Insulin</th>\n",
       "      <th>BMI</th>\n",
       "      <th>Age</th>\n",
       "      <th>Outcome</th>\n",
       "    </tr>\n",
       "  </thead>\n",
       "  <tbody>\n",
       "    <tr>\n",
       "      <th>count</th>\n",
       "      <td>768.000000</td>\n",
       "      <td>768.000000</td>\n",
       "      <td>768.000000</td>\n",
       "      <td>768.000000</td>\n",
       "      <td>768.000000</td>\n",
       "      <td>768.000000</td>\n",
       "      <td>768.000000</td>\n",
       "    </tr>\n",
       "    <tr>\n",
       "      <th>mean</th>\n",
       "      <td>120.894531</td>\n",
       "      <td>69.105469</td>\n",
       "      <td>20.536458</td>\n",
       "      <td>79.799479</td>\n",
       "      <td>31.992578</td>\n",
       "      <td>33.240885</td>\n",
       "      <td>0.348958</td>\n",
       "    </tr>\n",
       "    <tr>\n",
       "      <th>std</th>\n",
       "      <td>31.972618</td>\n",
       "      <td>19.355807</td>\n",
       "      <td>15.952218</td>\n",
       "      <td>115.244002</td>\n",
       "      <td>7.884160</td>\n",
       "      <td>11.760232</td>\n",
       "      <td>0.476951</td>\n",
       "    </tr>\n",
       "    <tr>\n",
       "      <th>min</th>\n",
       "      <td>0.000000</td>\n",
       "      <td>0.000000</td>\n",
       "      <td>0.000000</td>\n",
       "      <td>0.000000</td>\n",
       "      <td>0.000000</td>\n",
       "      <td>21.000000</td>\n",
       "      <td>0.000000</td>\n",
       "    </tr>\n",
       "    <tr>\n",
       "      <th>25%</th>\n",
       "      <td>99.000000</td>\n",
       "      <td>62.000000</td>\n",
       "      <td>0.000000</td>\n",
       "      <td>0.000000</td>\n",
       "      <td>27.300000</td>\n",
       "      <td>24.000000</td>\n",
       "      <td>0.000000</td>\n",
       "    </tr>\n",
       "    <tr>\n",
       "      <th>50%</th>\n",
       "      <td>117.000000</td>\n",
       "      <td>72.000000</td>\n",
       "      <td>23.000000</td>\n",
       "      <td>30.500000</td>\n",
       "      <td>32.000000</td>\n",
       "      <td>29.000000</td>\n",
       "      <td>0.000000</td>\n",
       "    </tr>\n",
       "    <tr>\n",
       "      <th>75%</th>\n",
       "      <td>140.250000</td>\n",
       "      <td>80.000000</td>\n",
       "      <td>32.000000</td>\n",
       "      <td>127.250000</td>\n",
       "      <td>36.600000</td>\n",
       "      <td>41.000000</td>\n",
       "      <td>1.000000</td>\n",
       "    </tr>\n",
       "    <tr>\n",
       "      <th>max</th>\n",
       "      <td>199.000000</td>\n",
       "      <td>122.000000</td>\n",
       "      <td>99.000000</td>\n",
       "      <td>846.000000</td>\n",
       "      <td>67.100000</td>\n",
       "      <td>81.000000</td>\n",
       "      <td>1.000000</td>\n",
       "    </tr>\n",
       "  </tbody>\n",
       "</table>\n",
       "</div>"
      ],
      "text/plain": [
       "          Glucose  BloodPressure  SkinThickness     Insulin         BMI  \\\n",
       "count  768.000000     768.000000     768.000000  768.000000  768.000000   \n",
       "mean   120.894531      69.105469      20.536458   79.799479   31.992578   \n",
       "std     31.972618      19.355807      15.952218  115.244002    7.884160   \n",
       "min      0.000000       0.000000       0.000000    0.000000    0.000000   \n",
       "25%     99.000000      62.000000       0.000000    0.000000   27.300000   \n",
       "50%    117.000000      72.000000      23.000000   30.500000   32.000000   \n",
       "75%    140.250000      80.000000      32.000000  127.250000   36.600000   \n",
       "max    199.000000     122.000000      99.000000  846.000000   67.100000   \n",
       "\n",
       "              Age     Outcome  \n",
       "count  768.000000  768.000000  \n",
       "mean    33.240885    0.348958  \n",
       "std     11.760232    0.476951  \n",
       "min     21.000000    0.000000  \n",
       "25%     24.000000    0.000000  \n",
       "50%     29.000000    0.000000  \n",
       "75%     41.000000    1.000000  \n",
       "max     81.000000    1.000000  "
      ]
     },
     "execution_count": 43,
     "metadata": {},
     "output_type": "execute_result"
    }
   ],
   "source": [
    "df2.describe()\n"
   ]
  },
  {
   "cell_type": "code",
   "execution_count": 52,
   "metadata": {},
   "outputs": [
    {
     "data": {
      "text/html": [
       "<div>\n",
       "<style scoped>\n",
       "    .dataframe tbody tr th:only-of-type {\n",
       "        vertical-align: middle;\n",
       "    }\n",
       "\n",
       "    .dataframe tbody tr th {\n",
       "        vertical-align: top;\n",
       "    }\n",
       "\n",
       "    .dataframe thead th {\n",
       "        text-align: right;\n",
       "    }\n",
       "</style>\n",
       "<table border=\"1\" class=\"dataframe\">\n",
       "  <thead>\n",
       "    <tr style=\"text-align: right;\">\n",
       "      <th></th>\n",
       "      <th>Glucose</th>\n",
       "      <th>BloodPressure</th>\n",
       "      <th>SkinThickness</th>\n",
       "      <th>Insulin</th>\n",
       "      <th>BMI</th>\n",
       "      <th>Age</th>\n",
       "      <th>Outcome</th>\n",
       "    </tr>\n",
       "  </thead>\n",
       "  <tbody>\n",
       "    <tr>\n",
       "      <th>0</th>\n",
       "      <td>148.0</td>\n",
       "      <td>72.0</td>\n",
       "      <td>35.000000</td>\n",
       "      <td>79.799479</td>\n",
       "      <td>33.6</td>\n",
       "      <td>50</td>\n",
       "      <td>1</td>\n",
       "    </tr>\n",
       "    <tr>\n",
       "      <th>1</th>\n",
       "      <td>85.0</td>\n",
       "      <td>66.0</td>\n",
       "      <td>29.000000</td>\n",
       "      <td>79.799479</td>\n",
       "      <td>26.6</td>\n",
       "      <td>31</td>\n",
       "      <td>0</td>\n",
       "    </tr>\n",
       "    <tr>\n",
       "      <th>2</th>\n",
       "      <td>183.0</td>\n",
       "      <td>64.0</td>\n",
       "      <td>20.536458</td>\n",
       "      <td>79.799479</td>\n",
       "      <td>23.3</td>\n",
       "      <td>32</td>\n",
       "      <td>1</td>\n",
       "    </tr>\n",
       "    <tr>\n",
       "      <th>3</th>\n",
       "      <td>89.0</td>\n",
       "      <td>66.0</td>\n",
       "      <td>23.000000</td>\n",
       "      <td>94.000000</td>\n",
       "      <td>28.1</td>\n",
       "      <td>21</td>\n",
       "      <td>0</td>\n",
       "    </tr>\n",
       "    <tr>\n",
       "      <th>4</th>\n",
       "      <td>137.0</td>\n",
       "      <td>40.0</td>\n",
       "      <td>35.000000</td>\n",
       "      <td>168.000000</td>\n",
       "      <td>43.1</td>\n",
       "      <td>33</td>\n",
       "      <td>1</td>\n",
       "    </tr>\n",
       "    <tr>\n",
       "      <th>...</th>\n",
       "      <td>...</td>\n",
       "      <td>...</td>\n",
       "      <td>...</td>\n",
       "      <td>...</td>\n",
       "      <td>...</td>\n",
       "      <td>...</td>\n",
       "      <td>...</td>\n",
       "    </tr>\n",
       "    <tr>\n",
       "      <th>763</th>\n",
       "      <td>101.0</td>\n",
       "      <td>76.0</td>\n",
       "      <td>48.000000</td>\n",
       "      <td>180.000000</td>\n",
       "      <td>32.9</td>\n",
       "      <td>63</td>\n",
       "      <td>0</td>\n",
       "    </tr>\n",
       "    <tr>\n",
       "      <th>764</th>\n",
       "      <td>122.0</td>\n",
       "      <td>70.0</td>\n",
       "      <td>27.000000</td>\n",
       "      <td>79.799479</td>\n",
       "      <td>36.8</td>\n",
       "      <td>27</td>\n",
       "      <td>0</td>\n",
       "    </tr>\n",
       "    <tr>\n",
       "      <th>765</th>\n",
       "      <td>121.0</td>\n",
       "      <td>72.0</td>\n",
       "      <td>23.000000</td>\n",
       "      <td>112.000000</td>\n",
       "      <td>26.2</td>\n",
       "      <td>30</td>\n",
       "      <td>0</td>\n",
       "    </tr>\n",
       "    <tr>\n",
       "      <th>766</th>\n",
       "      <td>126.0</td>\n",
       "      <td>60.0</td>\n",
       "      <td>20.536458</td>\n",
       "      <td>79.799479</td>\n",
       "      <td>30.1</td>\n",
       "      <td>47</td>\n",
       "      <td>1</td>\n",
       "    </tr>\n",
       "    <tr>\n",
       "      <th>767</th>\n",
       "      <td>93.0</td>\n",
       "      <td>70.0</td>\n",
       "      <td>31.000000</td>\n",
       "      <td>79.799479</td>\n",
       "      <td>30.4</td>\n",
       "      <td>23</td>\n",
       "      <td>0</td>\n",
       "    </tr>\n",
       "  </tbody>\n",
       "</table>\n",
       "<p>768 rows × 7 columns</p>\n",
       "</div>"
      ],
      "text/plain": [
       "     Glucose  BloodPressure  SkinThickness     Insulin   BMI  Age  Outcome\n",
       "0      148.0           72.0      35.000000   79.799479  33.6   50        1\n",
       "1       85.0           66.0      29.000000   79.799479  26.6   31        0\n",
       "2      183.0           64.0      20.536458   79.799479  23.3   32        1\n",
       "3       89.0           66.0      23.000000   94.000000  28.1   21        0\n",
       "4      137.0           40.0      35.000000  168.000000  43.1   33        1\n",
       "..       ...            ...            ...         ...   ...  ...      ...\n",
       "763    101.0           76.0      48.000000  180.000000  32.9   63        0\n",
       "764    122.0           70.0      27.000000   79.799479  36.8   27        0\n",
       "765    121.0           72.0      23.000000  112.000000  26.2   30        0\n",
       "766    126.0           60.0      20.536458   79.799479  30.1   47        1\n",
       "767     93.0           70.0      31.000000   79.799479  30.4   23        0\n",
       "\n",
       "[768 rows x 7 columns]"
      ]
     },
     "execution_count": 52,
     "metadata": {},
     "output_type": "execute_result"
    }
   ],
   "source": [
    "#df2=df2.mask(df2==0).fillna(df2.mean())\n",
    "\n",
    "df2[\"Glucose\"] = df2[\"Glucose\"].replace(0,120.89453125)\n",
    "df2[\"BloodPressure\"] = df2[\"BloodPressure\"].replace(0,69.10546875)\n",
    "df2[\"SkinThickness\"] = df2[\"SkinThickness\"].replace(0,20.536458333333332)\n",
    "df2[\"Insulin\"] = df2[\"Insulin\"].replace(0,79.79947916666667)\n",
    "df2[\"BMI\"] = df2[\"BMI\"].replace(0,31.992578124999998)\n",
    "df2[\"Age\"] = df2[\"Age\"].replace(0,33.240885416666664)\n",
    "\n",
    "\n",
    "df2"
   ]
  },
  {
   "cell_type": "code",
   "execution_count": 53,
   "metadata": {},
   "outputs": [
    {
     "name": "stdout",
     "output_type": "stream",
     "text": [
      "Train set: (614, 6) (614,)\n",
      "Test set: (154, 6) (154,)\n"
     ]
    }
   ],
   "source": [
    "from sklearn.model_selection import train_test_split\n",
    "x = np.asarray(df2[[\"Glucose\",\"BloodPressure\",\"SkinThickness\",\"Insulin\",\"BMI\",\"Age\"]])\n",
    "y = np.asarray(df2[\"Outcome\"])\n",
    "x_train, x_test, y_train, y_test = train_test_split( x, y, test_size=0.2, random_state=4)\n",
    "\n",
    "print ('Train set:', x_train.shape,  y_train.shape)\n",
    "print ('Test set:', x_test.shape,  y_test.shape)"
   ]
  },
  {
   "cell_type": "code",
   "execution_count": 54,
   "metadata": {},
   "outputs": [
    {
     "name": "stdout",
     "output_type": "stream",
     "text": [
      "# Total no. of Rows 768\n",
      "# Rows missing Glucose Values 0\n",
      "# Rows missing BloodPressure Values 0\n",
      "# Rows missing Skin Thickness Values 0\n",
      "# Rows missing Insulin Values 0\n",
      "# Rows missing BMI Values 0\n",
      "# Rows missing Age Values 0\n"
     ]
    }
   ],
   "source": [
    "print(\"# Total no. of Rows {0}\".format(len(df2)))\n",
    "print(\"# Rows missing Glucose Values {0}\".format(len(df2.loc[df2.Glucose==0])))\n",
    "print(\"# Rows missing BloodPressure Values {0}\".format(len(df2.loc[df2.BloodPressure==0])))\n",
    "print(\"# Rows missing Skin Thickness Values {0}\".format(len(df2.loc[df2.SkinThickness==0])))\n",
    "print(\"# Rows missing Insulin Values {0}\".format(len(df2.loc[df2.Insulin==0])))\n",
    "print(\"# Rows missing BMI Values {0}\".format(len(df2.loc[df2.BMI==0])))\n",
    "print(\"# Rows missing Age Values {0}\".format(len(df2.loc[df2.Glucose==0])))\n"
   ]
  },
  {
   "cell_type": "code",
   "execution_count": 55,
   "metadata": {},
   "outputs": [],
   "source": [
    "# from sklearn.impute import SimpleImputer\n",
    "# fill_0 = SimpleImputer(missing_values=0, strategy=\"mean\")\n",
    "\n",
    "# x_train = fill_0.fit_transform(x_train)\n",
    "# x_test = fill_0.fit_transform(x_test)\n",
    "#df2.Glucose.mean()\n",
    "#df2[\"Glucose\"]=df2[\"Glucose\"].replace(0,120.89453125)\n",
    "# df2=df2.mask(df2==0).fillna(df2.mean())\n"
   ]
  },
  {
   "cell_type": "code",
   "execution_count": 56,
   "metadata": {},
   "outputs": [
    {
     "name": "stdout",
     "output_type": "stream",
     "text": [
      "# Total no. of Rows 768\n",
      "# Rows missing Glucose Values 0\n",
      "# Rows missing BloodPressure Values 0\n",
      "# Rows missing Skin Thickness Values 0\n",
      "# Rows missing Insulin Values 0\n",
      "# Rows missing BMI Values 0\n",
      "# Rows missing Age Values 0\n"
     ]
    }
   ],
   "source": [
    "print(\"# Total no. of Rows {0}\".format(len(df2)))\n",
    "print(\"# Rows missing Glucose Values {0}\".format(len(df2.loc[df2.Glucose==0])))\n",
    "print(\"# Rows missing BloodPressure Values {0}\".format(len(df2.loc[df2.BloodPressure==0])))\n",
    "print(\"# Rows missing Skin Thickness Values {0}\".format(len(df2.loc[df2.SkinThickness==0])))\n",
    "print(\"# Rows missing Insulin Values {0}\".format(len(df2.loc[df2.Insulin==0])))\n",
    "print(\"# Rows missing BMI Values {0}\".format(len(df2.loc[df2.BMI==0])))\n",
    "print(\"# Rows missing Age Values {0}\".format(len(df2.loc[df2.Glucose==0])))"
   ]
  },
  {
   "cell_type": "code",
   "execution_count": 70,
   "metadata": {},
   "outputs": [
    {
     "data": {
      "text/plain": [
       "LogisticRegression(C=0.01, class_weight=None, dual=False, fit_intercept=True,\n",
       "                   intercept_scaling=1, l1_ratio=None, max_iter=100,\n",
       "                   multi_class='auto', n_jobs=None, penalty='l2',\n",
       "                   random_state=None, solver='lbfgs', tol=0.0001, verbose=0,\n",
       "                   warm_start=False)"
      ]
     },
     "execution_count": 70,
     "metadata": {},
     "output_type": "execute_result"
    }
   ],
   "source": [
    "from sklearn.linear_model import LogisticRegression\n",
    "from sklearn.metrics import confusion_matrix\n",
    "LR = LogisticRegression(C=0.01, solver='lbfgs').fit(x_train,y_train)\n",
    "LR"
   ]
  },
  {
   "cell_type": "code",
   "execution_count": 71,
   "metadata": {},
   "outputs": [
    {
     "data": {
      "text/plain": [
       "array([0, 0, 0, 0, 0, 1, 1, 0, 1, 0, 1, 0, 0, 0, 0, 1, 1, 1, 0, 0, 0, 1,\n",
       "       0, 1, 0, 1, 0, 0, 0, 0, 1, 0, 0, 0, 1, 0, 1, 1, 0, 1, 1, 0, 0, 1,\n",
       "       0, 0, 0, 1, 0, 0, 1, 1, 0, 0, 1, 0, 0, 0, 0, 1, 0, 0, 1, 0, 0, 0,\n",
       "       0, 0, 0, 1, 0, 0, 0, 0, 0, 1, 0, 0, 0, 1, 1, 0, 0, 1, 0, 0, 0, 1,\n",
       "       0, 0, 1, 0, 0, 0, 0, 1, 0, 1, 1, 0, 0, 1, 0, 0, 1, 0, 0, 1, 0, 0,\n",
       "       1, 1, 1, 0, 0, 0, 1, 1, 1, 1, 0, 0, 0, 0, 0, 0, 0, 0, 0, 1, 0, 0,\n",
       "       0, 0, 1, 0, 0, 0, 1, 1, 0, 0, 0, 0, 1, 1, 1, 0, 0, 0, 0, 0, 1, 1],\n",
       "      dtype=int64)"
      ]
     },
     "execution_count": 71,
     "metadata": {},
     "output_type": "execute_result"
    }
   ],
   "source": [
    "yhat=LR.predict(x_test)\n",
    "yhat"
   ]
  },
  {
   "cell_type": "code",
   "execution_count": 72,
   "metadata": {},
   "outputs": [
    {
     "name": "stderr",
     "output_type": "stream",
     "text": [
      "C:\\Users\\lenovo\\AppData\\Local\\Programs\\Python\\Python37\\lib\\site-packages\\sklearn\\metrics\\_classification.py:664: FutureWarning: jaccard_similarity_score has been deprecated and replaced with jaccard_score. It will be removed in version 0.23. This implementation has surprising behavior for binary and multiclass classification tasks.\n",
      "  FutureWarning)\n"
     ]
    },
    {
     "data": {
      "text/plain": [
       "0.8051948051948052"
      ]
     },
     "execution_count": 72,
     "metadata": {},
     "output_type": "execute_result"
    }
   ],
   "source": [
    "from sklearn.metrics import jaccard_similarity_score\n",
    "jaccard_similarity_score(y_test, yhat)"
   ]
  },
  {
   "cell_type": "code",
   "execution_count": 73,
   "metadata": {},
   "outputs": [
    {
     "name": "stdout",
     "output_type": "stream",
     "text": [
      "[[37 15]\n",
      " [15 87]]\n"
     ]
    }
   ],
   "source": [
    "print(confusion_matrix(y_test, yhat, labels=[1,0]))"
   ]
  },
  {
   "cell_type": "code",
   "execution_count": 74,
   "metadata": {},
   "outputs": [
    {
     "data": {
      "text/plain": [
       "array([[0.77624558, 0.22375442],\n",
       "       [0.93677987, 0.06322013],\n",
       "       [0.89111212, 0.10888788],\n",
       "       [0.51369484, 0.48630516],\n",
       "       [0.67085644, 0.32914356],\n",
       "       [0.37583817, 0.62416183],\n",
       "       [0.34374398, 0.65625602],\n",
       "       [0.87807418, 0.12192582],\n",
       "       [0.22187583, 0.77812417],\n",
       "       [0.90456537, 0.09543463],\n",
       "       [0.42985033, 0.57014967],\n",
       "       [0.91445769, 0.08554231],\n",
       "       [0.76234389, 0.23765611],\n",
       "       [0.93755417, 0.06244583],\n",
       "       [0.87504674, 0.12495326],\n",
       "       [0.46728993, 0.53271007],\n",
       "       [0.11744348, 0.88255652],\n",
       "       [0.07764947, 0.92235053],\n",
       "       [0.96694753, 0.03305247],\n",
       "       [0.94287509, 0.05712491],\n",
       "       [0.90600745, 0.09399255],\n",
       "       [0.40148234, 0.59851766],\n",
       "       [0.86217514, 0.13782486],\n",
       "       [0.12551328, 0.87448672],\n",
       "       [0.87464504, 0.12535496],\n",
       "       [0.4894671 , 0.5105329 ],\n",
       "       [0.92080276, 0.07919724],\n",
       "       [0.64403757, 0.35596243],\n",
       "       [0.6835253 , 0.3164747 ],\n",
       "       [0.84419422, 0.15580578],\n",
       "       [0.31634256, 0.68365744],\n",
       "       [0.95020941, 0.04979059],\n",
       "       [0.72756336, 0.27243664],\n",
       "       [0.96537365, 0.03462635],\n",
       "       [0.38772782, 0.61227218],\n",
       "       [0.74327668, 0.25672332],\n",
       "       [0.42515815, 0.57484185],\n",
       "       [0.49322216, 0.50677784],\n",
       "       [0.91361221, 0.08638779],\n",
       "       [0.34968291, 0.65031709],\n",
       "       [0.37254262, 0.62745738],\n",
       "       [0.68017201, 0.31982799],\n",
       "       [0.82877231, 0.17122769],\n",
       "       [0.16798173, 0.83201827],\n",
       "       [0.8672239 , 0.1327761 ],\n",
       "       [0.93597559, 0.06402441],\n",
       "       [0.78813618, 0.21186382],\n",
       "       [0.05620128, 0.94379872],\n",
       "       [0.80282472, 0.19717528],\n",
       "       [0.934903  , 0.065097  ],\n",
       "       [0.42019445, 0.57980555],\n",
       "       [0.20912143, 0.79087857],\n",
       "       [0.91513488, 0.08486512],\n",
       "       [0.51816449, 0.48183551],\n",
       "       [0.43323269, 0.56676731],\n",
       "       [0.92960026, 0.07039974],\n",
       "       [0.85742339, 0.14257661],\n",
       "       [0.96472345, 0.03527655],\n",
       "       [0.87192064, 0.12807936],\n",
       "       [0.38260558, 0.61739442],\n",
       "       [0.7990787 , 0.2009213 ],\n",
       "       [0.94199504, 0.05800496],\n",
       "       [0.45069034, 0.54930966],\n",
       "       [0.98171986, 0.01828014],\n",
       "       [0.77704022, 0.22295978],\n",
       "       [0.87668401, 0.12331599],\n",
       "       [0.93202611, 0.06797389],\n",
       "       [0.62672128, 0.37327872],\n",
       "       [0.67312374, 0.32687626],\n",
       "       [0.21326359, 0.78673641],\n",
       "       [0.8993977 , 0.1006023 ],\n",
       "       [0.54868129, 0.45131871],\n",
       "       [0.79778217, 0.20221783],\n",
       "       [0.9448012 , 0.0551988 ],\n",
       "       [0.90700371, 0.09299629],\n",
       "       [0.13693444, 0.86306556],\n",
       "       [0.73154824, 0.26845176],\n",
       "       [0.81007426, 0.18992574],\n",
       "       [0.8987752 , 0.1012248 ],\n",
       "       [0.09755924, 0.90244076],\n",
       "       [0.13451699, 0.86548301],\n",
       "       [0.64153395, 0.35846605],\n",
       "       [0.84293477, 0.15706523],\n",
       "       [0.03955159, 0.96044841],\n",
       "       [0.51240809, 0.48759191],\n",
       "       [0.95495472, 0.04504528],\n",
       "       [0.95514736, 0.04485264],\n",
       "       [0.20813662, 0.79186338],\n",
       "       [0.72623121, 0.27376879],\n",
       "       [0.77338264, 0.22661736],\n",
       "       [0.40201936, 0.59798064],\n",
       "       [0.92883532, 0.07116468],\n",
       "       [0.80847936, 0.19152064],\n",
       "       [0.87730557, 0.12269443],\n",
       "       [0.91980392, 0.08019608],\n",
       "       [0.47624762, 0.52375238],\n",
       "       [0.85426043, 0.14573957],\n",
       "       [0.35094188, 0.64905812],\n",
       "       [0.1535485 , 0.8464515 ],\n",
       "       [0.5947911 , 0.4052089 ],\n",
       "       [0.84198158, 0.15801842],\n",
       "       [0.41648722, 0.58351278],\n",
       "       [0.81742493, 0.18257507],\n",
       "       [0.735409  , 0.264591  ],\n",
       "       [0.13648946, 0.86351054],\n",
       "       [0.70168802, 0.29831198],\n",
       "       [0.90791425, 0.09208575],\n",
       "       [0.16907093, 0.83092907],\n",
       "       [0.65519392, 0.34480608],\n",
       "       [0.70250475, 0.29749525],\n",
       "       [0.10563852, 0.89436148],\n",
       "       [0.17463389, 0.82536611],\n",
       "       [0.23589692, 0.76410308],\n",
       "       [0.93980973, 0.06019027],\n",
       "       [0.79420938, 0.20579062],\n",
       "       [0.91859806, 0.08140194],\n",
       "       [0.47383883, 0.52616117],\n",
       "       [0.48727213, 0.51272787],\n",
       "       [0.22735024, 0.77264976],\n",
       "       [0.35545546, 0.64454454],\n",
       "       [0.75471326, 0.24528674],\n",
       "       [0.91597627, 0.08402373],\n",
       "       [0.73795739, 0.26204261],\n",
       "       [0.89941892, 0.10058108],\n",
       "       [0.67381735, 0.32618265],\n",
       "       [0.85378288, 0.14621712],\n",
       "       [0.60343051, 0.39656949],\n",
       "       [0.92186438, 0.07813562],\n",
       "       [0.86073782, 0.13926218],\n",
       "       [0.14723791, 0.85276209],\n",
       "       [0.64117483, 0.35882517],\n",
       "       [0.94797774, 0.05202226],\n",
       "       [0.84142721, 0.15857279],\n",
       "       [0.87150363, 0.12849637],\n",
       "       [0.32933677, 0.67066323],\n",
       "       [0.93210392, 0.06789608],\n",
       "       [0.77436438, 0.22563562],\n",
       "       [0.87350737, 0.12649263],\n",
       "       [0.47127157, 0.52872843],\n",
       "       [0.13617526, 0.86382474],\n",
       "       [0.90086783, 0.09913217],\n",
       "       [0.94630913, 0.05369087],\n",
       "       [0.88591899, 0.11408101],\n",
       "       [0.70584108, 0.29415892],\n",
       "       [0.2920055 , 0.7079945 ],\n",
       "       [0.26210522, 0.73789478],\n",
       "       [0.15172309, 0.84827691],\n",
       "       [0.5115026 , 0.4884974 ],\n",
       "       [0.81698876, 0.18301124],\n",
       "       [0.5964636 , 0.4035364 ],\n",
       "       [0.94852421, 0.05147579],\n",
       "       [0.62567042, 0.37432958],\n",
       "       [0.32735066, 0.67264934],\n",
       "       [0.14722898, 0.85277102]])"
      ]
     },
     "execution_count": 74,
     "metadata": {},
     "output_type": "execute_result"
    }
   ],
   "source": [
    "yhat_prob = LR.predict_proba(x_test)\n",
    "yhat_prob"
   ]
  },
  {
   "cell_type": "code",
   "execution_count": 115,
   "metadata": {},
   "outputs": [],
   "source": [
    "# Glucose, BloodPressure, SkinThickness, Insulin, BMI, Age\n",
    "pred=[148.0,72.0,35.000000,79.799479,33.6,50]\n",
    "Diab_pred=LR.predict_proba([pred])[0][1]*100"
   ]
  },
  {
   "cell_type": "code",
   "execution_count": 120,
   "metadata": {},
   "outputs": [
    {
     "name": "stdout",
     "output_type": "stream",
     "text": [
      "Probability of Diabetes : 70.68 %\n"
     ]
    }
   ],
   "source": [
    "print(\"Probability of Diabetes : \"\"{0:.2f} %\".format(Diab_pred))"
   ]
  },
  {
   "cell_type": "code",
   "execution_count": null,
   "metadata": {},
   "outputs": [],
   "source": []
  }
 ],
 "metadata": {
  "kernelspec": {
   "display_name": "Python 3.7.7 64-bit",
   "language": "python",
   "name": "python37764bitd18fa50a8b794b1ca104abca51672078"
  },
  "language_info": {
   "codemirror_mode": {
    "name": "ipython",
    "version": 3
   },
   "file_extension": ".py",
   "mimetype": "text/x-python",
   "name": "python",
   "nbconvert_exporter": "python",
   "pygments_lexer": "ipython3",
   "version": "3.7.7"
  }
 },
 "nbformat": 4,
 "nbformat_minor": 4
}
